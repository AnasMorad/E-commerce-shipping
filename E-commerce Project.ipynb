{
 "cells": [
  {
   "cell_type": "markdown",
   "id": "6d8b7e73",
   "metadata": {},
   "source": [
    "# The link for the data set from Kaggle:\n",
    "https://www.kaggle.com/datasets/ulrikthygepedersen/shipping-ecommerce"
   ]
  },
  {
   "cell_type": "markdown",
   "id": "aef9ba44",
   "metadata": {},
   "source": [
    "# Businees Case: Insights about the E-commerce website shipping products "
   ]
  },
  {
   "cell_type": "code",
   "execution_count": 1,
   "id": "52c2d2c1",
   "metadata": {},
   "outputs": [],
   "source": [
    "import numpy as np\n",
    "import pandas as pd\n",
    "import matplotlib.pyplot as plt\n",
    "import seaborn as sns\n",
    "%matplotlib inline"
   ]
  },
  {
   "cell_type": "code",
   "execution_count": 2,
   "id": "a8dbc1d8",
   "metadata": {},
   "outputs": [],
   "source": [
    "data=pd.read_csv('shipping_ecommerce.csv')"
   ]
  },
  {
   "cell_type": "markdown",
   "id": "80c348a9",
   "metadata": {},
   "source": [
    "# Precprocessing Data"
   ]
  },
  {
   "cell_type": "code",
   "execution_count": 3,
   "id": "2ca5c7e2",
   "metadata": {
    "scrolled": false
   },
   "outputs": [
    {
     "data": {
      "text/html": [
       "<div>\n",
       "<style scoped>\n",
       "    .dataframe tbody tr th:only-of-type {\n",
       "        vertical-align: middle;\n",
       "    }\n",
       "\n",
       "    .dataframe tbody tr th {\n",
       "        vertical-align: top;\n",
       "    }\n",
       "\n",
       "    .dataframe thead th {\n",
       "        text-align: right;\n",
       "    }\n",
       "</style>\n",
       "<table border=\"1\" class=\"dataframe\">\n",
       "  <thead>\n",
       "    <tr style=\"text-align: right;\">\n",
       "      <th></th>\n",
       "      <th>Customer_care_calls</th>\n",
       "      <th>Customer_rating</th>\n",
       "      <th>Prior_purchases</th>\n",
       "      <th>Discount_offered</th>\n",
       "      <th>Weight_in_gms</th>\n",
       "      <th>Warehouse_block</th>\n",
       "      <th>Mode_of_Shipment</th>\n",
       "      <th>Product_importance</th>\n",
       "      <th>Gender</th>\n",
       "      <th>Class</th>\n",
       "    </tr>\n",
       "  </thead>\n",
       "  <tbody>\n",
       "    <tr>\n",
       "      <th>0</th>\n",
       "      <td>5</td>\n",
       "      <td>4</td>\n",
       "      <td>2</td>\n",
       "      <td>10</td>\n",
       "      <td>5395</td>\n",
       "      <td>A</td>\n",
       "      <td>Ship</td>\n",
       "      <td>medium</td>\n",
       "      <td>M</td>\n",
       "      <td>1</td>\n",
       "    </tr>\n",
       "    <tr>\n",
       "      <th>1</th>\n",
       "      <td>4</td>\n",
       "      <td>3</td>\n",
       "      <td>2</td>\n",
       "      <td>6</td>\n",
       "      <td>5867</td>\n",
       "      <td>F</td>\n",
       "      <td>Ship</td>\n",
       "      <td>medium</td>\n",
       "      <td>F</td>\n",
       "      <td>0</td>\n",
       "    </tr>\n",
       "    <tr>\n",
       "      <th>2</th>\n",
       "      <td>3</td>\n",
       "      <td>4</td>\n",
       "      <td>2</td>\n",
       "      <td>2</td>\n",
       "      <td>5957</td>\n",
       "      <td>D</td>\n",
       "      <td>Ship</td>\n",
       "      <td>medium</td>\n",
       "      <td>M</td>\n",
       "      <td>0</td>\n",
       "    </tr>\n",
       "    <tr>\n",
       "      <th>3</th>\n",
       "      <td>3</td>\n",
       "      <td>1</td>\n",
       "      <td>2</td>\n",
       "      <td>27</td>\n",
       "      <td>2551</td>\n",
       "      <td>D</td>\n",
       "      <td>Ship</td>\n",
       "      <td>medium</td>\n",
       "      <td>M</td>\n",
       "      <td>1</td>\n",
       "    </tr>\n",
       "    <tr>\n",
       "      <th>4</th>\n",
       "      <td>7</td>\n",
       "      <td>5</td>\n",
       "      <td>4</td>\n",
       "      <td>9</td>\n",
       "      <td>1329</td>\n",
       "      <td>B</td>\n",
       "      <td>Ship</td>\n",
       "      <td>medium</td>\n",
       "      <td>M</td>\n",
       "      <td>1</td>\n",
       "    </tr>\n",
       "  </tbody>\n",
       "</table>\n",
       "</div>"
      ],
      "text/plain": [
       "   Customer_care_calls  Customer_rating  Prior_purchases  Discount_offered  \\\n",
       "0                    5                4                2                10   \n",
       "1                    4                3                2                 6   \n",
       "2                    3                4                2                 2   \n",
       "3                    3                1                2                27   \n",
       "4                    7                5                4                 9   \n",
       "\n",
       "   Weight_in_gms Warehouse_block Mode_of_Shipment Product_importance Gender  \\\n",
       "0           5395               A             Ship             medium      M   \n",
       "1           5867               F             Ship             medium      F   \n",
       "2           5957               D             Ship             medium      M   \n",
       "3           2551               D             Ship             medium      M   \n",
       "4           1329               B             Ship             medium      M   \n",
       "\n",
       "   Class  \n",
       "0      1  \n",
       "1      0  \n",
       "2      0  \n",
       "3      1  \n",
       "4      1  "
      ]
     },
     "execution_count": 3,
     "metadata": {},
     "output_type": "execute_result"
    }
   ],
   "source": [
    "data.head()"
   ]
  },
  {
   "cell_type": "markdown",
   "id": "f368e8f5",
   "metadata": {},
   "source": [
    "Class: zero for not shipped, one for shipped "
   ]
  },
  {
   "cell_type": "markdown",
   "id": "994b462f",
   "metadata": {},
   "source": [
    "# Basic Checks"
   ]
  },
  {
   "cell_type": "code",
   "execution_count": 4,
   "id": "a30a2109",
   "metadata": {},
   "outputs": [
    {
     "name": "stdout",
     "output_type": "stream",
     "text": [
      "<class 'pandas.core.frame.DataFrame'>\n",
      "RangeIndex: 10998 entries, 0 to 10997\n",
      "Data columns (total 10 columns):\n",
      " #   Column               Non-Null Count  Dtype \n",
      "---  ------               --------------  ----- \n",
      " 0   Customer_care_calls  10998 non-null  int64 \n",
      " 1   Customer_rating      10998 non-null  int64 \n",
      " 2   Prior_purchases      10998 non-null  int64 \n",
      " 3   Discount_offered     10998 non-null  int64 \n",
      " 4   Weight_in_gms        10998 non-null  int64 \n",
      " 5   Warehouse_block      10998 non-null  object\n",
      " 6   Mode_of_Shipment     10998 non-null  object\n",
      " 7   Product_importance   10998 non-null  object\n",
      " 8   Gender               10998 non-null  object\n",
      " 9   Class                10998 non-null  int64 \n",
      "dtypes: int64(6), object(4)\n",
      "memory usage: 859.3+ KB\n"
     ]
    }
   ],
   "source": [
    "data.info()"
   ]
  },
  {
   "cell_type": "markdown",
   "id": "be88e6cc",
   "metadata": {},
   "source": [
    "No Null values for any columns"
   ]
  },
  {
   "cell_type": "code",
   "execution_count": 5,
   "id": "02dc44fa",
   "metadata": {
    "scrolled": false
   },
   "outputs": [
    {
     "data": {
      "text/html": [
       "<div>\n",
       "<style scoped>\n",
       "    .dataframe tbody tr th:only-of-type {\n",
       "        vertical-align: middle;\n",
       "    }\n",
       "\n",
       "    .dataframe tbody tr th {\n",
       "        vertical-align: top;\n",
       "    }\n",
       "\n",
       "    .dataframe thead th {\n",
       "        text-align: right;\n",
       "    }\n",
       "</style>\n",
       "<table border=\"1\" class=\"dataframe\">\n",
       "  <thead>\n",
       "    <tr style=\"text-align: right;\">\n",
       "      <th></th>\n",
       "      <th>Customer_care_calls</th>\n",
       "      <th>Customer_rating</th>\n",
       "      <th>Prior_purchases</th>\n",
       "      <th>Discount_offered</th>\n",
       "      <th>Weight_in_gms</th>\n",
       "      <th>Class</th>\n",
       "    </tr>\n",
       "  </thead>\n",
       "  <tbody>\n",
       "    <tr>\n",
       "      <th>count</th>\n",
       "      <td>10998.000000</td>\n",
       "      <td>10998.000000</td>\n",
       "      <td>10998.000000</td>\n",
       "      <td>10998.000000</td>\n",
       "      <td>10998.000000</td>\n",
       "      <td>10998.000000</td>\n",
       "    </tr>\n",
       "    <tr>\n",
       "      <th>mean</th>\n",
       "      <td>4.054555</td>\n",
       "      <td>2.990453</td>\n",
       "      <td>3.567558</td>\n",
       "      <td>13.373704</td>\n",
       "      <td>3633.873522</td>\n",
       "      <td>0.596745</td>\n",
       "    </tr>\n",
       "    <tr>\n",
       "      <th>std</th>\n",
       "      <td>1.141497</td>\n",
       "      <td>1.413635</td>\n",
       "      <td>1.522924</td>\n",
       "      <td>16.206183</td>\n",
       "      <td>1635.382636</td>\n",
       "      <td>0.490573</td>\n",
       "    </tr>\n",
       "    <tr>\n",
       "      <th>min</th>\n",
       "      <td>2.000000</td>\n",
       "      <td>1.000000</td>\n",
       "      <td>2.000000</td>\n",
       "      <td>1.000000</td>\n",
       "      <td>1001.000000</td>\n",
       "      <td>0.000000</td>\n",
       "    </tr>\n",
       "    <tr>\n",
       "      <th>25%</th>\n",
       "      <td>3.000000</td>\n",
       "      <td>2.000000</td>\n",
       "      <td>3.000000</td>\n",
       "      <td>4.000000</td>\n",
       "      <td>1839.250000</td>\n",
       "      <td>0.000000</td>\n",
       "    </tr>\n",
       "    <tr>\n",
       "      <th>50%</th>\n",
       "      <td>4.000000</td>\n",
       "      <td>3.000000</td>\n",
       "      <td>3.000000</td>\n",
       "      <td>7.000000</td>\n",
       "      <td>4149.000000</td>\n",
       "      <td>1.000000</td>\n",
       "    </tr>\n",
       "    <tr>\n",
       "      <th>75%</th>\n",
       "      <td>5.000000</td>\n",
       "      <td>4.000000</td>\n",
       "      <td>4.000000</td>\n",
       "      <td>10.000000</td>\n",
       "      <td>5049.750000</td>\n",
       "      <td>1.000000</td>\n",
       "    </tr>\n",
       "    <tr>\n",
       "      <th>max</th>\n",
       "      <td>7.000000</td>\n",
       "      <td>5.000000</td>\n",
       "      <td>10.000000</td>\n",
       "      <td>65.000000</td>\n",
       "      <td>7846.000000</td>\n",
       "      <td>1.000000</td>\n",
       "    </tr>\n",
       "  </tbody>\n",
       "</table>\n",
       "</div>"
      ],
      "text/plain": [
       "       Customer_care_calls  Customer_rating  Prior_purchases  \\\n",
       "count         10998.000000     10998.000000     10998.000000   \n",
       "mean              4.054555         2.990453         3.567558   \n",
       "std               1.141497         1.413635         1.522924   \n",
       "min               2.000000         1.000000         2.000000   \n",
       "25%               3.000000         2.000000         3.000000   \n",
       "50%               4.000000         3.000000         3.000000   \n",
       "75%               5.000000         4.000000         4.000000   \n",
       "max               7.000000         5.000000        10.000000   \n",
       "\n",
       "       Discount_offered  Weight_in_gms         Class  \n",
       "count      10998.000000   10998.000000  10998.000000  \n",
       "mean          13.373704    3633.873522      0.596745  \n",
       "std           16.206183    1635.382636      0.490573  \n",
       "min            1.000000    1001.000000      0.000000  \n",
       "25%            4.000000    1839.250000      0.000000  \n",
       "50%            7.000000    4149.000000      1.000000  \n",
       "75%           10.000000    5049.750000      1.000000  \n",
       "max           65.000000    7846.000000      1.000000  "
      ]
     },
     "execution_count": 5,
     "metadata": {},
     "output_type": "execute_result"
    }
   ],
   "source": [
    "data.describe()"
   ]
  },
  {
   "cell_type": "code",
   "execution_count": 6,
   "id": "cdd36487",
   "metadata": {
    "scrolled": true
   },
   "outputs": [
    {
     "data": {
      "text/plain": [
       "Customer_care_calls    10998\n",
       "Customer_rating        10998\n",
       "Prior_purchases        10998\n",
       "Discount_offered       10998\n",
       "Weight_in_gms          10998\n",
       "Warehouse_block        10998\n",
       "Mode_of_Shipment       10998\n",
       "Product_importance     10998\n",
       "Gender                 10998\n",
       "Class                  10998\n",
       "dtype: int64"
      ]
     },
     "execution_count": 6,
     "metadata": {},
     "output_type": "execute_result"
    }
   ],
   "source": [
    "data.count()"
   ]
  },
  {
   "cell_type": "markdown",
   "id": "9cb10a72",
   "metadata": {},
   "source": [
    "The data is consistent as the features have equal rows values"
   ]
  },
  {
   "cell_type": "markdown",
   "id": "82dd7a9b",
   "metadata": {},
   "source": [
    "# Univariate Analysis"
   ]
  },
  {
   "cell_type": "code",
   "execution_count": 7,
   "id": "099b03b6",
   "metadata": {},
   "outputs": [
    {
     "data": {
      "text/plain": [
       "Index(['Customer_care_calls', 'Customer_rating', 'Prior_purchases',\n",
       "       'Discount_offered', 'Weight_in_gms', 'Warehouse_block',\n",
       "       'Mode_of_Shipment', 'Product_importance', 'Gender', 'Class'],\n",
       "      dtype='object')"
      ]
     },
     "execution_count": 7,
     "metadata": {},
     "output_type": "execute_result"
    }
   ],
   "source": [
    "data.columns"
   ]
  },
  {
   "cell_type": "code",
   "execution_count": 8,
   "id": "718c009e",
   "metadata": {
    "scrolled": false
   },
   "outputs": [
    {
     "data": {
      "text/plain": [
       "<AxesSubplot:xlabel='Customer_care_calls', ylabel='Count'>"
      ]
     },
     "execution_count": 8,
     "metadata": {},
     "output_type": "execute_result"
    },
    {
     "data": {
      "image/png": "[encoded data removed]",
      "text/plain": [
       "<Figure size 432x288 with 1 Axes>"
      ]
     },
     "metadata": {
      "needs_background": "light"
     },
     "output_type": "display_data"
    }
   ],
   "source": [
    "sns.histplot(x='Customer_care_calls',data=data)"
   ]
  },
  {
   "cell_type": "markdown",
   "id": "9e6c6801",
   "metadata": {},
   "source": [
    "Most of the customers need 4 calls from customer_care, maybe we have to consider that when we calculate the cost for products.\n",
    "As we need Customer care department to perform a lot of calls for most of customers, which may be a higher cost for the operation.\n",
    "\n"
   ]
  },
  {
   "cell_type": "code",
   "execution_count": 20,
   "id": "d343a14a",
   "metadata": {},
   "outputs": [
    {
     "data": {
      "text/plain": [
       "<AxesSubplot:xlabel='Customer_rating', ylabel='Count'>"
      ]
     },
     "execution_count": 20,
     "metadata": {},
     "output_type": "execute_result"
    },
    {
     "data": {
      "image/png": "[encoded data removed]",
      "text/plain": [
       "<Figure size 432x288 with 1 Axes>"
      ]
     },
     "metadata": {
      "needs_background": "light"
     },
     "output_type": "display_data"
    }
   ],
   "source": [
    "sns.histplot(x='Customer_rating',data=data)"
   ]
  },
  {
   "cell_type": "markdown",
   "id": "e41b1093",
   "metadata": {},
   "source": [
    "Customers are almost equally distributed across different ratings"
   ]
  },
  {
   "cell_type": "code",
   "execution_count": 22,
   "id": "05f58be7",
   "metadata": {
    "scrolled": true
   },
   "outputs": [
    {
     "data": {
      "text/plain": [
       "<AxesSubplot:xlabel='Prior_purchases', ylabel='Count'>"
      ]
     },
     "execution_count": 22,
     "metadata": {},
     "output_type": "execute_result"
    },
    {
     "data": {
      "image/png": "[encoded data removed]",
      "text/plain": [
       "<Figure size 432x288 with 1 Axes>"
      ]
     },
     "metadata": {
      "needs_background": "light"
     },
     "output_type": "display_data"
    }
   ],
   "source": [
    "sns.histplot(x='Prior_purchases',data=data)"
   ]
  },
  {
   "cell_type": "markdown",
   "id": "517e232d",
   "metadata": {},
   "source": [
    " Most of customers have at least 3 times prior_purchases, which means that no of customers who are repeating buying from the website.\n",
    "maybe we have to focus on what make people buy again from the website when we figure out the relations between features to have \n",
    "better insight about the reasons behind why and why not people buy more than onetime .\n",
    "\n",
    "\n"
   ]
  },
  {
   "cell_type": "code",
   "execution_count": 29,
   "id": "ee7a09fa",
   "metadata": {
    "scrolled": true
   },
   "outputs": [
    {
     "data": {
      "text/plain": [
       "<AxesSubplot:xlabel='Discount_offered', ylabel='Count'>"
      ]
     },
     "execution_count": 29,
     "metadata": {},
     "output_type": "execute_result"
    },
    {
     "data": {
      "image/png": "[encoded data removed]",
      "text/plain": [
       "<Figure size 432x288 with 1 Axes>"
      ]
     },
     "metadata": {
      "needs_background": "light"
     },
     "output_type": "display_data"
    }
   ],
   "source": [
    "sns.histplot(x='Discount_offered',data=data)"
   ]
  },
  {
   "cell_type": "markdown",
   "id": "289a1a0a",
   "metadata": {},
   "source": [
    " Most of customers have discount between 0 and 10 percent, could be the reason for repeated buying process."
   ]
  },
  {
   "cell_type": "code",
   "execution_count": 31,
   "id": "88dcee0f",
   "metadata": {
    "scrolled": true
   },
   "outputs": [
    {
     "data": {
      "text/plain": [
       "<AxesSubplot:xlabel='Weight_in_gms', ylabel='Count'>"
      ]
     },
     "execution_count": 31,
     "metadata": {},
     "output_type": "execute_result"
    },
    {
     "data": {
      "image/png": "[encoded data removed]",
      "text/plain": [
       "<Figure size 432x288 with 1 Axes>"
      ]
     },
     "metadata": {
      "needs_background": "light"
     },
     "output_type": "display_data"
    }
   ],
   "source": [
    "sns.histplot(x='Weight_in_gms',data=data)"
   ]
  },
  {
   "cell_type": "markdown",
   "id": "7cd5917d",
   "metadata": {},
   "source": [
    "The weight of products vary from 1000 and 2000 , and the other range is 4000 and 6000. which may affect the way we choose the shipment method, we we focus also on the relation between the shipment method, weight and the class( if shipped or not)"
   ]
  },
  {
   "cell_type": "code",
   "execution_count": 33,
   "id": "6c04d6c4",
   "metadata": {},
   "outputs": [
    {
     "data": {
      "text/plain": [
       "<AxesSubplot:xlabel='Warehouse_block', ylabel='Count'>"
      ]
     },
     "execution_count": 33,
     "metadata": {},
     "output_type": "execute_result"
    },
    {
     "data": {
      "image/png": "[encoded data removed]",
      "text/plain": [
       "<Figure size 432x288 with 1 Axes>"
      ]
     },
     "metadata": {
      "needs_background": "light"
     },
     "output_type": "display_data"
    }
   ],
   "source": [
    "sns.histplot(x='Warehouse_block',data=data)"
   ]
  },
  {
   "cell_type": "markdown",
   "id": "7ab74fc9",
   "metadata": {},
   "source": [
    "Block F is the biggest Warehouse which provides products"
   ]
  },
  {
   "cell_type": "code",
   "execution_count": 35,
   "id": "026d9b91",
   "metadata": {},
   "outputs": [
    {
     "data": {
      "text/plain": [
       "<AxesSubplot:xlabel='Mode_of_Shipment', ylabel='Count'>"
      ]
     },
     "execution_count": 35,
     "metadata": {},
     "output_type": "execute_result"
    },
    {
     "data": {
      "image/png": "[encoded data removed]",
      "text/plain": [
       "<Figure size 432x288 with 1 Axes>"
      ]
     },
     "metadata": {
      "needs_background": "light"
     },
     "output_type": "display_data"
    }
   ],
   "source": [
    "sns.histplot(x='Mode_of_Shipment',data=data)"
   ]
  },
  {
   "cell_type": "markdown",
   "id": "bff0b09a",
   "metadata": {},
   "source": [
    " Ship is the most used shipment method in the Business, what says alot about the cost and success of shipment, we have to see the relation between shipment method and the class."
   ]
  },
  {
   "cell_type": "code",
   "execution_count": 38,
   "id": "39e0a049",
   "metadata": {
    "scrolled": true
   },
   "outputs": [
    {
     "data": {
      "text/plain": [
       "<AxesSubplot:xlabel='Product_importance', ylabel='Count'>"
      ]
     },
     "execution_count": 38,
     "metadata": {},
     "output_type": "execute_result"
    },
    {
     "data": {
      "image/png": "[encoded data removed]",
      "text/plain": [
       "<Figure size 432x288 with 1 Axes>"
      ]
     },
     "metadata": {
      "needs_background": "light"
     },
     "output_type": "display_data"
    }
   ],
   "source": [
    "sns.histplot(x='Product_importance',data=data)"
   ]
  },
  {
   "cell_type": "markdown",
   "id": "a6923984",
   "metadata": {},
   "source": [
    "Medium and Low importance is the majority for the products, which may affect the shipment method, as if the product is not important maybe we ship it with low importance method."
   ]
  },
  {
   "cell_type": "code",
   "execution_count": 40,
   "id": "6a300fa7",
   "metadata": {},
   "outputs": [
    {
     "data": {
      "text/plain": [
       "<AxesSubplot:xlabel='Gender', ylabel='Count'>"
      ]
     },
     "execution_count": 40,
     "metadata": {},
     "output_type": "execute_result"
    },
    {
     "data": {
      "image/png": "[encoded data removed]",
      "text/plain": [
       "<Figure size 432x288 with 1 Axes>"
      ]
     },
     "metadata": {
      "needs_background": "light"
     },
     "output_type": "display_data"
    }
   ],
   "source": [
    "sns.histplot(x='Gender',data=data)"
   ]
  },
  {
   "cell_type": "markdown",
   "id": "b127d0d1",
   "metadata": {},
   "source": [
    "Gender is equal for all the consumers, it is not an important input for affetcing the consumption."
   ]
  },
  {
   "cell_type": "code",
   "execution_count": 49,
   "id": "3d0b9db5",
   "metadata": {
    "scrolled": true
   },
   "outputs": [
    {
     "data": {
      "text/plain": [
       "(array([4435.,    0.,    0.,    0.,    0.,    0.,    0.,    0.,    0.,\n",
       "        6563.]),\n",
       " array([0. , 0.1, 0.2, 0.3, 0.4, 0.5, 0.6, 0.7, 0.8, 0.9, 1. ]),\n",
       " <BarContainer object of 10 artists>)"
      ]
     },
     "execution_count": 49,
     "metadata": {},
     "output_type": "execute_result"
    },
    {
     "data": {
      "image/png": "[encoded data removed]",
      "text/plain": [
       "<Figure size 432x288 with 1 Axes>"
      ]
     },
     "metadata": {
      "needs_background": "light"
     },
     "output_type": "display_data"
    }
   ],
   "source": [
    "plt.hist(x='Class',data=data)"
   ]
  },
  {
   "cell_type": "markdown",
   "id": "2207152f",
   "metadata": {},
   "source": [
    "CLass is one(shipped) in many casses comparing to zero(not shipped), the percentage need to be better, but it is a good start"
   ]
  },
  {
   "cell_type": "code",
   "execution_count": 9,
   "id": "e112a6eb",
   "metadata": {},
   "outputs": [],
   "source": [
    "## Bivariate Analysis\n",
    "#now we have to look at the features with each other and with the ship class( yes or no ) "
   ]
  },
  {
   "cell_type": "markdown",
   "id": "e71d8116",
   "metadata": {},
   "source": [
    "we will focus on the relation between each feature and the shipped class to have a bigger picture about the class and what could influence the results of it."
   ]
  },
  {
   "cell_type": "code",
   "execution_count": 13,
   "id": "260a5512",
   "metadata": {
    "scrolled": true
   },
   "outputs": [
    {
     "data": {
      "text/plain": [
       "<AxesSubplot:xlabel='Customer_care_calls', ylabel='count'>"
      ]
     },
     "execution_count": 13,
     "metadata": {},
     "output_type": "execute_result"
    },
    {
     "data": {
      "image/png": "[encoded data removed]",
      "text/plain": [
       "<Figure size 432x288 with 1 Axes>"
      ]
     },
     "metadata": {
      "needs_background": "light"
     },
     "output_type": "display_data"
    }
   ],
   "source": [
    "sns.countplot(x=data['Customer_care_calls'],hue=data['Class' ])"
   ]
  },
  {
   "cell_type": "markdown",
   "id": "d41a6254",
   "metadata": {},
   "source": [
    "the more customer care the more shipment could be shipped, maybe we need to make more calls to track the shipment to make sure it is reached to the customer."
   ]
  },
  {
   "cell_type": "code",
   "execution_count": 15,
   "id": "3d7a9b2d",
   "metadata": {
    "scrolled": true
   },
   "outputs": [
    {
     "data": {
      "text/plain": [
       "<AxesSubplot:xlabel='Customer_rating', ylabel='count'>"
      ]
     },
     "execution_count": 15,
     "metadata": {},
     "output_type": "execute_result"
    },
    {
     "data": {
      "image/png": "[encoded data removed]",
      "text/plain": [
       "<Figure size 432x288 with 1 Axes>"
      ]
     },
     "metadata": {
      "needs_background": "light"
     },
     "output_type": "display_data"
    }
   ],
   "source": [
    "sns.countplot(x=data['Customer_rating'],hue=data['Class' ])"
   ]
  },
  {
   "cell_type": "markdown",
   "id": "6b7ea482",
   "metadata": {},
   "source": [
    "The customer rating has no influence in big way to the class of shipment as it shows in the graph"
   ]
  },
  {
   "cell_type": "code",
   "execution_count": 16,
   "id": "3bce7356",
   "metadata": {},
   "outputs": [
    {
     "data": {
      "text/plain": [
       "<AxesSubplot:xlabel='Prior_purchases', ylabel='count'>"
      ]
     },
     "execution_count": 16,
     "metadata": {},
     "output_type": "execute_result"
    },
    {
     "data": {
      "image/png": "[encoded data removed]",
      "text/plain": [
       "<Figure size 432x288 with 1 Axes>"
      ]
     },
     "metadata": {
      "needs_background": "light"
     },
     "output_type": "display_data"
    }
   ],
   "source": [
    "sns.countplot(x=data['Prior_purchases'],hue=data['Class' ])"
   ]
  },
  {
   "cell_type": "markdown",
   "id": "80f84a3a",
   "metadata": {},
   "source": [
    "the custmoer behavior shows that number of the customers those are repeating the purchases more than 4 times, we have to discuss this with the customer care and product team to see whay people dont like to buy again, maybe that affect also the shipment class, which leads them to not but again"
   ]
  },
  {
   "cell_type": "code",
   "execution_count": 17,
   "id": "3f1cb50e",
   "metadata": {
    "scrolled": true
   },
   "outputs": [
    {
     "data": {
      "text/plain": [
       "<AxesSubplot:xlabel='Discount_offered', ylabel='count'>"
      ]
     },
     "execution_count": 17,
     "metadata": {},
     "output_type": "execute_result"
    },
    {
     "data": {
      "image/png": "[encoded data removed]",
      "text/plain": [
       "<Figure size 432x288 with 1 Axes>"
      ]
     },
     "metadata": {
      "needs_background": "light"
     },
     "output_type": "display_data"
    }
   ],
   "source": [
    "sns.countplot(x=data['Discount_offered'],hue=data['Class' ])"
   ]
  },
  {
   "cell_type": "markdown",
   "id": "532a1eab",
   "metadata": {},
   "source": [
    "It is hard to see the difference between th discount rates, but it seems no relationship between the discount and the class of shipment"
   ]
  },
  {
   "cell_type": "code",
   "execution_count": 18,
   "id": "224be427",
   "metadata": {
    "scrolled": true
   },
   "outputs": [
    {
     "data": {
      "text/plain": [
       "<AxesSubplot:xlabel='Weight_in_gms', ylabel='count'>"
      ]
     },
     "execution_count": 18,
     "metadata": {},
     "output_type": "execute_result"
    },
    {
     "data": {
      "image/png": "[encoded data removed]",
      "text/plain": [
       "<Figure size 432x288 with 1 Axes>"
      ]
     },
     "metadata": {
      "needs_background": "light"
     },
     "output_type": "display_data"
    }
   ],
   "source": [
    "sns.countplot(x=data['Weight_in_gms'],hue=data['Class' ])"
   ]
  },
  {
   "cell_type": "markdown",
   "id": "da3d4e7f",
   "metadata": {},
   "source": [
    "teh same of discount as the way of weight , there is no relationship between weight and class of shipment also"
   ]
  },
  {
   "cell_type": "code",
   "execution_count": 19,
   "id": "2a3734d8",
   "metadata": {
    "scrolled": true
   },
   "outputs": [
    {
     "data": {
      "text/plain": [
       "<AxesSubplot:xlabel='Warehouse_block', ylabel='count'>"
      ]
     },
     "execution_count": 19,
     "metadata": {},
     "output_type": "execute_result"
    },
    {
     "data": {
      "image/png": "[encoded data removed]",
      "text/plain": [
       "<Figure size 432x288 with 1 Axes>"
      ]
     },
     "metadata": {
      "needs_background": "light"
     },
     "output_type": "display_data"
    }
   ],
   "source": [
    "sns.countplot(x=data['Warehouse_block'],hue=data['Class' ])"
   ]
  },
  {
   "cell_type": "markdown",
   "id": "339c457f",
   "metadata": {},
   "source": [
    "the quantity from Block_F is successed to shipped more than any other blocks, we have to ask the important question, why this block have success rate more than other and apply the same technique in other blocks "
   ]
  },
  {
   "cell_type": "code",
   "execution_count": 20,
   "id": "5e54a72d",
   "metadata": {},
   "outputs": [
    {
     "data": {
      "text/plain": [
       "<AxesSubplot:xlabel='Mode_of_Shipment', ylabel='count'>"
      ]
     },
     "execution_count": 20,
     "metadata": {},
     "output_type": "execute_result"
    },
    {
     "data": {
      "image/png": "[encoded data removed]",
      "text/plain": [
       "<Figure size 432x288 with 1 Axes>"
      ]
     },
     "metadata": {
      "needs_background": "light"
     },
     "output_type": "display_data"
    }
   ],
   "source": [
    "sns.countplot(x=data['Mode_of_Shipment'],hue=data['Class' ])"
   ]
  },
  {
   "cell_type": "markdown",
   "id": "03ad83dc",
   "metadata": {},
   "source": [
    "It is logic, the ships is the most used way for shipment, it carry many shipments more than plans and any vehicle of course, that is why the quantity of shipment that we use ships in it is the first way, and as usual the best way to ship "
   ]
  },
  {
   "cell_type": "code",
   "execution_count": 21,
   "id": "b801a4e8",
   "metadata": {
    "scrolled": true
   },
   "outputs": [
    {
     "data": {
      "text/plain": [
       "<AxesSubplot:xlabel='Product_importance', ylabel='count'>"
      ]
     },
     "execution_count": 21,
     "metadata": {},
     "output_type": "execute_result"
    },
    {
     "data": {
      "image/png": "[encoded data removed]",
      "text/plain": [
       "<Figure size 432x288 with 1 Axes>"
      ]
     },
     "metadata": {
      "needs_background": "light"
     },
     "output_type": "display_data"
    }
   ],
   "source": [
    "sns.countplot(x=data['Product_importance'],hue=data['Class' ])"
   ]
  },
  {
   "cell_type": "markdown",
   "id": "03c2ba52",
   "metadata": {},
   "source": [
    "it is shows that the importance of product doesnt affect the class of shipment, as the quantity of low is the largest number in products , as most of producst have low importance and the success rate also has balance distribution between all levels"
   ]
  },
  {
   "cell_type": "markdown",
   "id": "10b1f7ae",
   "metadata": {},
   "source": [
    "# ٍStatistics activities "
   ]
  },
  {
   "cell_type": "code",
   "execution_count": 7,
   "id": "c3ea76bd",
   "metadata": {
    "scrolled": true
   },
   "outputs": [
    {
     "data": {
      "text/plain": [
       "Index(['Customer_care_calls', 'Customer_rating', 'Prior_purchases',\n",
       "       'Discount_offered', 'Weight_in_gms', 'Warehouse_block',\n",
       "       'Mode_of_Shipment', 'Product_importance', 'Gender', 'Class'],\n",
       "      dtype='object')"
      ]
     },
     "execution_count": 7,
     "metadata": {},
     "output_type": "execute_result"
    }
   ],
   "source": [
    "data.columns"
   ]
  },
  {
   "cell_type": "code",
   "execution_count": 18,
   "id": "cdcb6c56",
   "metadata": {},
   "outputs": [
    {
     "data": {
      "text/plain": [
       "array(['medium', 'low', 'high'], dtype=object)"
      ]
     },
     "execution_count": 18,
     "metadata": {},
     "output_type": "execute_result"
    }
   ],
   "source": [
    "data.Product_importance.unique()"
   ]
  },
  {
   "cell_type": "code",
   "execution_count": 5,
   "id": "2e31545e",
   "metadata": {},
   "outputs": [
    {
     "data": {
      "text/plain": [
       "10998"
      ]
     },
     "execution_count": 5,
     "metadata": {},
     "output_type": "execute_result"
    }
   ],
   "source": [
    "# get the data proportion \n",
    "data.shape[0]"
   ]
  },
  {
   "cell_type": "code",
   "execution_count": 9,
   "id": "cce88828",
   "metadata": {},
   "outputs": [
    {
     "data": {
      "text/plain": [
       "0.5967448627023095"
      ]
     },
     "execution_count": 9,
     "metadata": {},
     "output_type": "execute_result"
    }
   ],
   "source": [
    "#proportion of shipped products (class=1)\n",
    "len(data[data['Class']==1])/data.shape[0]"
   ]
  },
  {
   "cell_type": "code",
   "execution_count": 10,
   "id": "18ac7cbe",
   "metadata": {},
   "outputs": [
    {
     "data": {
      "text/plain": [
       "0.40325513729769047"
      ]
     },
     "execution_count": 10,
     "metadata": {},
     "output_type": "execute_result"
    }
   ],
   "source": [
    "#proportion of bot shipped products (class=0)\n",
    "len(data[data['Class']==0])/data.shape[0]"
   ]
  },
  {
   "cell_type": "markdown",
   "id": "2c51861a",
   "metadata": {},
   "source": [
    "as we noticed when we put the Class on a chart, it seems to be close percentage between class zero and one \n",
    "we know already that the way of shipment is one of major features that affects the success of shipment or not, so we have to see what is the proportion of each way and the success of shipment"
   ]
  },
  {
   "cell_type": "code",
   "execution_count": 13,
   "id": "67cfa0cb",
   "metadata": {},
   "outputs": [
    {
     "data": {
      "text/plain": [
       "0.5976410668811152"
      ]
     },
     "execution_count": 13,
     "metadata": {},
     "output_type": "execute_result"
    }
   ],
   "source": [
    "#1-proportion of shipping mode=ship and class=1\n",
    "data[data['Mode_of_Shipment']=='Ship']['Class'].mean()"
   ]
  },
  {
   "cell_type": "code",
   "execution_count": 14,
   "id": "fc547faa",
   "metadata": {},
   "outputs": [
    {
     "data": {
      "text/plain": [
       "0.5880681818181818"
      ]
     },
     "execution_count": 14,
     "metadata": {},
     "output_type": "execute_result"
    }
   ],
   "source": [
    "#2-proportion of shipping mode='Road' and class=1\n",
    "data[data['Mode_of_Shipment']=='Road']['Class'].mean()"
   ]
  },
  {
   "cell_type": "code",
   "execution_count": 16,
   "id": "39609d71",
   "metadata": {},
   "outputs": [
    {
     "data": {
      "text/plain": [
       "0.6015756893640968"
      ]
     },
     "execution_count": 16,
     "metadata": {},
     "output_type": "execute_result"
    }
   ],
   "source": [
    "#3-proportion of shipping mode=ship and class=1\n",
    "data[data['Mode_of_Shipment']=='Flight']['Class'].mean()"
   ]
  },
  {
   "cell_type": "markdown",
   "id": "f4d8383e",
   "metadata": {},
   "source": [
    "it is obvious that the percentage of each way is so close, but the flight mode has success rate a little bit higher than the others, but it is neglectable\n",
    "so it is not the ship mode to be the significant change for the results, but what if we get another feature in addition to the ship mode, let's see what will be the results when we put Product_importance on the same process then gather it we the mode"
   ]
  },
  {
   "cell_type": "code",
   "execution_count": 19,
   "id": "a8cce828",
   "metadata": {},
   "outputs": [
    {
     "data": {
      "text/plain": [
       "0.5929003021148036"
      ]
     },
     "execution_count": 19,
     "metadata": {},
     "output_type": "execute_result"
    }
   ],
   "source": [
    "#1-proportion of Product_importance =low and class=1\n",
    "data[data['Product_importance']=='low']['Class'].mean()"
   ]
  },
  {
   "cell_type": "code",
   "execution_count": 20,
   "id": "29688f2b",
   "metadata": {},
   "outputs": [
    {
     "data": {
      "text/plain": [
       "0.5904501472444258"
      ]
     },
     "execution_count": 20,
     "metadata": {},
     "output_type": "execute_result"
    }
   ],
   "source": [
    "#2-proportion of Product_importance =low and class=1\n",
    "data[data['Product_importance']=='medium']['Class'].mean()"
   ]
  },
  {
   "cell_type": "code",
   "execution_count": 21,
   "id": "62eb0fb5",
   "metadata": {},
   "outputs": [
    {
     "data": {
      "text/plain": [
       "0.6497890295358649"
      ]
     },
     "execution_count": 21,
     "metadata": {},
     "output_type": "execute_result"
    }
   ],
   "source": [
    "#3-proportion of Product_importance =low and class=1\n",
    "data[data['Product_importance']=='high']['Class'].mean()"
   ]
  },
  {
   "cell_type": "code",
   "execution_count": 22,
   "id": "18ccd94b",
   "metadata": {},
   "outputs": [],
   "source": [
    "# it is predicted but we have to make sure, that the shipment importance will affect the shipment success "
   ]
  },
  {
   "cell_type": "markdown",
   "id": "1f34f5c1",
   "metadata": {},
   "source": [
    "to have a conclusion look, we can gather the high importance with the shipment mode to see what will be the significant change"
   ]
  },
  {
   "cell_type": "code",
   "execution_count": 28,
   "id": "30003a94",
   "metadata": {},
   "outputs": [
    {
     "data": {
      "text/plain": [
       "0.5828220858895705"
      ]
     },
     "execution_count": 28,
     "metadata": {},
     "output_type": "execute_result"
    }
   ],
   "source": [
    "#proportion of products with high importance and shipped with flight and class=1\n",
    "data.query(' Mode_of_Shipment ==\"Flight\" and Product_importance == \"high\" and Class==1').count()[0]/data.query(' Mode_of_Shipment ==\"Flight\" and Product_importance == \"high\"').count()[0]"
   ]
  },
  {
   "cell_type": "code",
   "execution_count": 29,
   "id": "16f98e10",
   "metadata": {},
   "outputs": [
    {
     "data": {
      "text/plain": [
       "0.6518987341772152"
      ]
     },
     "execution_count": 29,
     "metadata": {},
     "output_type": "execute_result"
    }
   ],
   "source": [
    "#proportion of products with high importance and shipped with Road and class=1\n",
    "data.query(' Mode_of_Shipment ==\"Road\" and Product_importance == \"high\" and Class==1').count()[0]/data.query(' Mode_of_Shipment ==\"Road\" and Product_importance == \"high\"').count()[0]"
   ]
  },
  {
   "cell_type": "code",
   "execution_count": 30,
   "id": "10626399",
   "metadata": {},
   "outputs": [
    {
     "data": {
      "text/plain": [
       "0.6666666666666666"
      ]
     },
     "execution_count": 30,
     "metadata": {},
     "output_type": "execute_result"
    }
   ],
   "source": [
    "#proportion of products with high importance and shipped with Road and class=1\n",
    "data.query(' Mode_of_Shipment ==\"Ship\" and Product_importance == \"high\" and Class==1').count()[0]/data.query(' Mode_of_Shipment ==\"Ship\" and Product_importance == \"high\"').count()[0]"
   ]
  },
  {
   "cell_type": "markdown",
   "id": "75d6a7cc",
   "metadata": {},
   "source": [
    "from previous comparisons we can see that the flight mode is the least shipment mode when we carry the same products with same importance level, but shipment mode either road or ship has highr success rate "
   ]
  },
  {
   "cell_type": "code",
   "execution_count": 31,
   "id": "b7016ee5",
   "metadata": {},
   "outputs": [
    {
     "data": {
      "text/plain": [
       "0.5990453460620525"
      ]
     },
     "execution_count": 31,
     "metadata": {},
     "output_type": "execute_result"
    }
   ],
   "source": [
    "#proportion of products with Low importance and shipped with flight and class=1\n",
    "data.query(' Mode_of_Shipment ==\"Flight\" and Product_importance == \"low\" and Class==1').count()[0]/data.query(' Mode_of_Shipment ==\"Flight\" and Product_importance == \"low\"').count()[0]"
   ]
  },
  {
   "cell_type": "code",
   "execution_count": 32,
   "id": "cfcec3aa",
   "metadata": {},
   "outputs": [
    {
     "data": {
      "text/plain": [
       "0.588098016336056"
      ]
     },
     "execution_count": 32,
     "metadata": {},
     "output_type": "execute_result"
    }
   ],
   "source": [
    "#proportion of products with Low importance and shipped with Road and class=1\n",
    "data.query(' Mode_of_Shipment ==\"Road\" and Product_importance == \"low\" and Class==1').count()[0]/data.query(' Mode_of_Shipment ==\"Road\" and Product_importance == \"low\"').count()[0]"
   ]
  },
  {
   "cell_type": "code",
   "execution_count": 33,
   "id": "185dc0c4",
   "metadata": {},
   "outputs": [
    {
     "data": {
      "text/plain": [
       "0.5926131630102749"
      ]
     },
     "execution_count": 33,
     "metadata": {},
     "output_type": "execute_result"
    }
   ],
   "source": [
    "#proportion of products with Low importance and shipped with Road and class=1\n",
    "data.query(' Mode_of_Shipment ==\"Ship\" and Product_importance == \"low\" and Class==1').count()[0]/data.query(' Mode_of_Shipment ==\"Ship\" and Product_importance == \"low\"').count()[0]"
   ]
  },
  {
   "cell_type": "markdown",
   "id": "4ada2092",
   "metadata": {},
   "source": [
    "# conclusion\n",
    "It is now confirmed, after performing the same calculations on the low importance products, that the success rate is not related to the way of shipment as much as related to the importance of products, to be able to have more success rate on shipment, we have to perform the same way of attention of high level importance of products on all other products"
   ]
  },
  {
   "cell_type": "markdown",
   "id": "3a9f2f1f",
   "metadata": {},
   "source": [
    "# Model creation\n"
   ]
  },
  {
   "cell_type": "code",
   "execution_count": null,
   "id": "cda83777",
   "metadata": {},
   "outputs": [],
   "source": [
    "#1-Mapping the categorical data and convert it to numerical ones to be suitable for the regression modelb"
   ]
  },
  {
   "cell_type": "code",
   "execution_count": 8,
   "id": "724f88ac",
   "metadata": {},
   "outputs": [
    {
     "data": {
      "text/plain": [
       "array(['A', 'F', 'D', 'B', 'C'], dtype=object)"
      ]
     },
     "execution_count": 8,
     "metadata": {},
     "output_type": "execute_result"
    }
   ],
   "source": [
    "data.Warehouse_block.unique()"
   ]
  },
  {
   "cell_type": "code",
   "execution_count": 9,
   "id": "6ac74e3d",
   "metadata": {},
   "outputs": [],
   "source": [
    "data.Warehouse_block=data.Warehouse_block.map({'A':0, 'F':1, 'D':2, 'B':3, 'C':4})"
   ]
  },
  {
   "cell_type": "code",
   "execution_count": 10,
   "id": "96691503",
   "metadata": {},
   "outputs": [
    {
     "data": {
      "text/plain": [
       "array([0, 1, 2, 3, 4], dtype=int64)"
      ]
     },
     "execution_count": 10,
     "metadata": {},
     "output_type": "execute_result"
    }
   ],
   "source": [
    "data.Warehouse_block.unique()"
   ]
  },
  {
   "cell_type": "code",
   "execution_count": 11,
   "id": "e38d1be3",
   "metadata": {},
   "outputs": [
    {
     "data": {
      "text/plain": [
       "array(['Ship', 'Road', 'Flight'], dtype=object)"
      ]
     },
     "execution_count": 11,
     "metadata": {},
     "output_type": "execute_result"
    }
   ],
   "source": [
    "data.Mode_of_Shipment.unique()"
   ]
  },
  {
   "cell_type": "code",
   "execution_count": 12,
   "id": "31a8aee5",
   "metadata": {},
   "outputs": [],
   "source": [
    "data.Mode_of_Shipment=data.Mode_of_Shipment.map({'Ship':0, 'Road':1, 'Flight':2})"
   ]
  },
  {
   "cell_type": "code",
   "execution_count": 13,
   "id": "851a236d",
   "metadata": {},
   "outputs": [
    {
     "data": {
      "text/plain": [
       "array([0, 1, 2], dtype=int64)"
      ]
     },
     "execution_count": 13,
     "metadata": {},
     "output_type": "execute_result"
    }
   ],
   "source": [
    "data.Mode_of_Shipment.unique()"
   ]
  },
  {
   "cell_type": "code",
   "execution_count": 14,
   "id": "3d3d00a3",
   "metadata": {},
   "outputs": [
    {
     "data": {
      "text/plain": [
       "array(['medium', 'low', 'high'], dtype=object)"
      ]
     },
     "execution_count": 14,
     "metadata": {},
     "output_type": "execute_result"
    }
   ],
   "source": [
    "data.Product_importance.unique()"
   ]
  },
  {
   "cell_type": "code",
   "execution_count": 15,
   "id": "a7227091",
   "metadata": {},
   "outputs": [],
   "source": [
    "data.Product_importance=data.Product_importance.map({'medium':0, 'low':1, 'high':2})"
   ]
  },
  {
   "cell_type": "code",
   "execution_count": 16,
   "id": "f54d144f",
   "metadata": {},
   "outputs": [
    {
     "data": {
      "text/plain": [
       "array([0, 1, 2], dtype=int64)"
      ]
     },
     "execution_count": 16,
     "metadata": {},
     "output_type": "execute_result"
    }
   ],
   "source": [
    "data.Product_importance.unique()"
   ]
  },
  {
   "cell_type": "code",
   "execution_count": 17,
   "id": "6da6e3f5",
   "metadata": {},
   "outputs": [
    {
     "data": {
      "text/plain": [
       "array(['M', 'F'], dtype=object)"
      ]
     },
     "execution_count": 17,
     "metadata": {},
     "output_type": "execute_result"
    }
   ],
   "source": [
    "data.Gender.unique()"
   ]
  },
  {
   "cell_type": "code",
   "execution_count": 18,
   "id": "fb112469",
   "metadata": {},
   "outputs": [],
   "source": [
    "data.Gender=data.Gender.map({'M':0, 'F':1})"
   ]
  },
  {
   "cell_type": "code",
   "execution_count": 3,
   "id": "dc6f4519",
   "metadata": {},
   "outputs": [],
   "source": [
    "#2-data scalling \n",
    "from sklearn.preprocessing import MinMaxScaler"
   ]
  },
  {
   "cell_type": "code",
   "execution_count": 4,
   "id": "03b7baf0",
   "metadata": {},
   "outputs": [],
   "source": [
    "sc=MinMaxScaler()"
   ]
  },
  {
   "cell_type": "code",
   "execution_count": 7,
   "id": "d5c0da7a",
   "metadata": {
    "scrolled": true
   },
   "outputs": [
    {
     "data": {
      "text/html": [
       "<div>\n",
       "<style scoped>\n",
       "    .dataframe tbody tr th:only-of-type {\n",
       "        vertical-align: middle;\n",
       "    }\n",
       "\n",
       "    .dataframe tbody tr th {\n",
       "        vertical-align: top;\n",
       "    }\n",
       "\n",
       "    .dataframe thead th {\n",
       "        text-align: right;\n",
       "    }\n",
       "</style>\n",
       "<table border=\"1\" class=\"dataframe\">\n",
       "  <thead>\n",
       "    <tr style=\"text-align: right;\">\n",
       "      <th></th>\n",
       "      <th>Customer_care_calls</th>\n",
       "      <th>Customer_rating</th>\n",
       "      <th>Prior_purchases</th>\n",
       "      <th>Discount_offered</th>\n",
       "      <th>Weight_in_gms</th>\n",
       "      <th>Warehouse_block</th>\n",
       "      <th>Mode_of_Shipment</th>\n",
       "      <th>Product_importance</th>\n",
       "      <th>Gender</th>\n",
       "      <th>Class</th>\n",
       "    </tr>\n",
       "  </thead>\n",
       "  <tbody>\n",
       "    <tr>\n",
       "      <th>0</th>\n",
       "      <td>5</td>\n",
       "      <td>4</td>\n",
       "      <td>2</td>\n",
       "      <td>10</td>\n",
       "      <td>5395</td>\n",
       "      <td>A</td>\n",
       "      <td>Ship</td>\n",
       "      <td>medium</td>\n",
       "      <td>M</td>\n",
       "      <td>1</td>\n",
       "    </tr>\n",
       "    <tr>\n",
       "      <th>1</th>\n",
       "      <td>4</td>\n",
       "      <td>3</td>\n",
       "      <td>2</td>\n",
       "      <td>6</td>\n",
       "      <td>5867</td>\n",
       "      <td>F</td>\n",
       "      <td>Ship</td>\n",
       "      <td>medium</td>\n",
       "      <td>F</td>\n",
       "      <td>0</td>\n",
       "    </tr>\n",
       "    <tr>\n",
       "      <th>2</th>\n",
       "      <td>3</td>\n",
       "      <td>4</td>\n",
       "      <td>2</td>\n",
       "      <td>2</td>\n",
       "      <td>5957</td>\n",
       "      <td>D</td>\n",
       "      <td>Ship</td>\n",
       "      <td>medium</td>\n",
       "      <td>M</td>\n",
       "      <td>0</td>\n",
       "    </tr>\n",
       "    <tr>\n",
       "      <th>3</th>\n",
       "      <td>3</td>\n",
       "      <td>1</td>\n",
       "      <td>2</td>\n",
       "      <td>27</td>\n",
       "      <td>2551</td>\n",
       "      <td>D</td>\n",
       "      <td>Ship</td>\n",
       "      <td>medium</td>\n",
       "      <td>M</td>\n",
       "      <td>1</td>\n",
       "    </tr>\n",
       "    <tr>\n",
       "      <th>4</th>\n",
       "      <td>7</td>\n",
       "      <td>5</td>\n",
       "      <td>4</td>\n",
       "      <td>9</td>\n",
       "      <td>1329</td>\n",
       "      <td>B</td>\n",
       "      <td>Ship</td>\n",
       "      <td>medium</td>\n",
       "      <td>M</td>\n",
       "      <td>1</td>\n",
       "    </tr>\n",
       "  </tbody>\n",
       "</table>\n",
       "</div>"
      ],
      "text/plain": [
       "   Customer_care_calls  Customer_rating  Prior_purchases  Discount_offered  \\\n",
       "0                    5                4                2                10   \n",
       "1                    4                3                2                 6   \n",
       "2                    3                4                2                 2   \n",
       "3                    3                1                2                27   \n",
       "4                    7                5                4                 9   \n",
       "\n",
       "   Weight_in_gms Warehouse_block Mode_of_Shipment Product_importance Gender  \\\n",
       "0           5395               A             Ship             medium      M   \n",
       "1           5867               F             Ship             medium      F   \n",
       "2           5957               D             Ship             medium      M   \n",
       "3           2551               D             Ship             medium      M   \n",
       "4           1329               B             Ship             medium      M   \n",
       "\n",
       "   Class  \n",
       "0      1  \n",
       "1      0  \n",
       "2      0  \n",
       "3      1  \n",
       "4      1  "
      ]
     },
     "execution_count": 7,
     "metadata": {},
     "output_type": "execute_result"
    }
   ],
   "source": [
    "data.head()"
   ]
  },
  {
   "cell_type": "code",
   "execution_count": 19,
   "id": "b306db2f",
   "metadata": {},
   "outputs": [],
   "source": [
    "data_2=['Discount_offered','Weight_in_gms']\n",
    "data_3=sc.fit_transform(data.drop(data_2,axis=1))"
   ]
  },
  {
   "cell_type": "code",
   "execution_count": 21,
   "id": "e57e5ce7",
   "metadata": {},
   "outputs": [
    {
     "data": {
      "text/plain": [
       "array([[0.6  , 0.75 , 0.   , ..., 0.   , 0.   , 1.   ],\n",
       "       [0.4  , 0.5  , 0.   , ..., 0.   , 1.   , 0.   ],\n",
       "       [0.2  , 0.75 , 0.   , ..., 0.   , 0.   , 0.   ],\n",
       "       ...,\n",
       "       [0.2  , 0.25 , 1.   , ..., 0.   , 0.   , 1.   ],\n",
       "       [0.2  , 0.   , 0.125, ..., 0.   , 0.   , 1.   ],\n",
       "       [0.4  , 0.5  , 0.125, ..., 0.   , 0.   , 1.   ]])"
      ]
     },
     "execution_count": 21,
     "metadata": {},
     "output_type": "execute_result"
    }
   ],
   "source": [
    "data_3"
   ]
  },
  {
   "cell_type": "code",
   "execution_count": 22,
   "id": "5912beb0",
   "metadata": {},
   "outputs": [],
   "source": [
    "#model creation \n",
    "x=data.iloc[:,:-1]\n",
    "y=data.Class"
   ]
  },
  {
   "cell_type": "code",
   "execution_count": 23,
   "id": "38d00712",
   "metadata": {},
   "outputs": [],
   "source": [
    "from sklearn.model_selection import train_test_split\n",
    "x_train,x_test,y_train,y_test=train_test_split(x,y,random_state=45)"
   ]
  },
  {
   "cell_type": "code",
   "execution_count": 24,
   "id": "f7a9d194",
   "metadata": {},
   "outputs": [
    {
     "data": {
      "text/html": [
       "<style>#sk-container-id-1 {color: black;background-color: white;}#sk-container-id-1 pre{padding: 0;}#sk-container-id-1 div.sk-toggleable {background-color: white;}#sk-container-id-1 label.sk-toggleable__label {cursor: pointer;display: block;width: 100%;margin-bottom: 0;padding: 0.3em;box-sizing: border-box;text-align: center;}#sk-container-id-1 label.sk-toggleable__label-arrow:before {content: \"▸\";float: left;margin-right: 0.25em;color: #696969;}#sk-container-id-1 label.sk-toggleable__label-arrow:hover:before {color: black;}#sk-container-id-1 div.sk-estimator:hover label.sk-toggleable__label-arrow:before {color: black;}#sk-container-id-1 div.sk-toggleable__content {max-height: 0;max-width: 0;overflow: hidden;text-align: left;background-color: #f0f8ff;}#sk-container-id-1 div.sk-toggleable__content pre {margin: 0.2em;color: black;border-radius: 0.25em;background-color: #f0f8ff;}#sk-container-id-1 input.sk-toggleable__control:checked~div.sk-toggleable__content {max-height: 200px;max-width: 100%;overflow: auto;}#sk-container-id-1 input.sk-toggleable__control:checked~label.sk-toggleable__label-arrow:before {content: \"▾\";}#sk-container-id-1 div.sk-estimator input.sk-toggleable__control:checked~label.sk-toggleable__label {background-color: #d4ebff;}#sk-container-id-1 div.sk-label input.sk-toggleable__control:checked~label.sk-toggleable__label {background-color: #d4ebff;}#sk-container-id-1 input.sk-hidden--visually {border: 0;clip: rect(1px 1px 1px 1px);clip: rect(1px, 1px, 1px, 1px);height: 1px;margin: -1px;overflow: hidden;padding: 0;position: absolute;width: 1px;}#sk-container-id-1 div.sk-estimator {font-family: monospace;background-color: #f0f8ff;border: 1px dotted black;border-radius: 0.25em;box-sizing: border-box;margin-bottom: 0.5em;}#sk-container-id-1 div.sk-estimator:hover {background-color: #d4ebff;}#sk-container-id-1 div.sk-parallel-item::after {content: \"\";width: 100%;border-bottom: 1px solid gray;flex-grow: 1;}#sk-container-id-1 div.sk-label:hover label.sk-toggleable__label {background-color: #d4ebff;}#sk-container-id-1 div.sk-serial::before {content: \"\";position: absolute;border-left: 1px solid gray;box-sizing: border-box;top: 0;bottom: 0;left: 50%;z-index: 0;}#sk-container-id-1 div.sk-serial {display: flex;flex-direction: column;align-items: center;background-color: white;padding-right: 0.2em;padding-left: 0.2em;position: relative;}#sk-container-id-1 div.sk-item {position: relative;z-index: 1;}#sk-container-id-1 div.sk-parallel {display: flex;align-items: stretch;justify-content: center;background-color: white;position: relative;}#sk-container-id-1 div.sk-item::before, #sk-container-id-1 div.sk-parallel-item::before {content: \"\";position: absolute;border-left: 1px solid gray;box-sizing: border-box;top: 0;bottom: 0;left: 50%;z-index: -1;}#sk-container-id-1 div.sk-parallel-item {display: flex;flex-direction: column;z-index: 1;position: relative;background-color: white;}#sk-container-id-1 div.sk-parallel-item:first-child::after {align-self: flex-end;width: 50%;}#sk-container-id-1 div.sk-parallel-item:last-child::after {align-self: flex-start;width: 50%;}#sk-container-id-1 div.sk-parallel-item:only-child::after {width: 0;}#sk-container-id-1 div.sk-dashed-wrapped {border: 1px dashed gray;margin: 0 0.4em 0.5em 0.4em;box-sizing: border-box;padding-bottom: 0.4em;background-color: white;}#sk-container-id-1 div.sk-label label {font-family: monospace;font-weight: bold;display: inline-block;line-height: 1.2em;}#sk-container-id-1 div.sk-label-container {text-align: center;}#sk-container-id-1 div.sk-container {/* jupyter's `normalize.less` sets `[hidden] { display: none; }` but bootstrap.min.css set `[hidden] { display: none !important; }` so we also need the `!important` here to be able to override the default hidden behavior on the sphinx rendered scikit-learn.org. See: https://github.com/scikit-learn/scikit-learn/issues/21755 */display: inline-block !important;position: relative;}#sk-container-id-1 div.sk-text-repr-fallback {display: none;}</style><div id=\"sk-container-id-1\" class=\"sk-top-container\"><div class=\"sk-text-repr-fallback\"><pre>LogisticRegression()</pre><b>In a Jupyter environment, please rerun this cell to show the HTML representation or trust the notebook. <br />On GitHub, the HTML representation is unable to render, please try loading this page with nbviewer.org.</b></div><div class=\"sk-container\" hidden><div class=\"sk-item\"><div class=\"sk-estimator sk-toggleable\"><input class=\"sk-toggleable__control sk-hidden--visually\" id=\"sk-estimator-id-1\" type=\"checkbox\" checked><label for=\"sk-estimator-id-1\" class=\"sk-toggleable__label sk-toggleable__label-arrow\">LogisticRegression</label><div class=\"sk-toggleable__content\"><pre>LogisticRegression()</pre></div></div></div></div></div>"
      ],
      "text/plain": [
       "LogisticRegression()"
      ]
     },
     "execution_count": 24,
     "metadata": {},
     "output_type": "execute_result"
    }
   ],
   "source": [
    "from sklearn.linear_model import LogisticRegression\n",
    "clf=LogisticRegression()\n",
    "clf.fit(x_train,y_train)"
   ]
  },
  {
   "cell_type": "code",
   "execution_count": 25,
   "id": "a352ed65",
   "metadata": {},
   "outputs": [],
   "source": [
    "y_pred=clf.predict(x_test)"
   ]
  },
  {
   "cell_type": "code",
   "execution_count": 26,
   "id": "fa2150cd",
   "metadata": {},
   "outputs": [
    {
     "data": {
      "text/plain": [
       "array([1, 0, 0, ..., 1, 0, 1], dtype=int64)"
      ]
     },
     "execution_count": 26,
     "metadata": {},
     "output_type": "execute_result"
    }
   ],
   "source": [
    "y_pred"
   ]
  },
  {
   "cell_type": "markdown",
   "id": "640fbd78",
   "metadata": {},
   "source": [
    "# Evaluation of the model"
   ]
  },
  {
   "cell_type": "code",
   "execution_count": 27,
   "id": "ffd98831",
   "metadata": {},
   "outputs": [],
   "source": [
    "from sklearn.metrics import confusion_matrix,accuracy_score,recall_score,precision_score, classification_report, f1_score"
   ]
  },
  {
   "cell_type": "code",
   "execution_count": 28,
   "id": "a6ffd01e",
   "metadata": {},
   "outputs": [
    {
     "name": "stdout",
     "output_type": "stream",
     "text": [
      "[[ 634  458]\n",
      " [ 570 1088]]\n"
     ]
    }
   ],
   "source": [
    "cm=confusion_matrix(y_test,y_pred)\n",
    "print(cm)"
   ]
  },
  {
   "cell_type": "code",
   "execution_count": 29,
   "id": "572d2258",
   "metadata": {},
   "outputs": [
    {
     "data": {
      "text/plain": [
       "0.6562123039806996"
      ]
     },
     "execution_count": 29,
     "metadata": {},
     "output_type": "execute_result"
    }
   ],
   "source": [
    "re=recall_score(y_test,y_pred)\n",
    "re"
   ]
  },
  {
   "cell_type": "code",
   "execution_count": 30,
   "id": "9e2729e0",
   "metadata": {},
   "outputs": [
    {
     "data": {
      "text/plain": [
       "0.703751617076326"
      ]
     },
     "execution_count": 30,
     "metadata": {},
     "output_type": "execute_result"
    }
   ],
   "source": [
    "pre=precision_score(y_test, y_pred)\n",
    "pre"
   ]
  },
  {
   "cell_type": "code",
   "execution_count": 31,
   "id": "b0f59869",
   "metadata": {},
   "outputs": [
    {
     "data": {
      "text/plain": [
       "0.6791510611735331"
      ]
     },
     "execution_count": 31,
     "metadata": {},
     "output_type": "execute_result"
    }
   ],
   "source": [
    "f1_score=f1_score(y_test,y_pred)\n",
    "f1_score"
   ]
  },
  {
   "cell_type": "code",
   "execution_count": 32,
   "id": "c21f6ed2",
   "metadata": {},
   "outputs": [
    {
     "name": "stdout",
     "output_type": "stream",
     "text": [
      "              precision    recall  f1-score   support\n",
      "\n",
      "           0       0.53      0.58      0.55      1092\n",
      "           1       0.70      0.66      0.68      1658\n",
      "\n",
      "    accuracy                           0.63      2750\n",
      "   macro avg       0.62      0.62      0.62      2750\n",
      "weighted avg       0.63      0.63      0.63      2750\n",
      "\n"
     ]
    }
   ],
   "source": [
    "cr=classification_report(y_test,y_pred)\n",
    "print(cr)"
   ]
  }
 ],
 "metadata": {
  "kernelspec": {
   "display_name": "Python 3 (ipykernel)",
   "language": "python",
   "name": "python3"
  },
  "language_info": {
   "codemirror_mode": {
    "name": "ipython",
    "version": 3
   },
   "file_extension": ".py",
   "mimetype": "text/x-python",
   "name": "python",
   "nbconvert_exporter": "python",
   "pygments_lexer": "ipython3",
   "version": "3.9.7"
  }
 },
 "nbformat": 4,
 "nbformat_minor": 5
}
